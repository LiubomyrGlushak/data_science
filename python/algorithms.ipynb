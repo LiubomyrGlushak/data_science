{
 "cells": [
  {
   "cell_type": "code",
   "execution_count": 1,
   "metadata": {},
   "outputs": [
    {
     "name": "stdout",
     "output_type": "stream",
     "text": [
      "A -> B\n",
      "A -> C\n",
      "B -> C\n"
     ]
    }
   ],
   "source": [
    "# Tower of Hanoi\n",
    "\n",
    "def hanoi(h = 1, move_from = \"A\", move_to = \"C\", helper = \"B\"):\n",
    "    if h == 1:\n",
    "        print(move_from + ' -> ' + move_to)\n",
    "    else:\n",
    "        hanoi(h-1, move_from, helper, move_to) #recursevly moving n-1 to helper\n",
    "        print(move_from + ' -> ' + move_to) #moving the last one to destination\n",
    "        hanoi(h-1, helper, move_to, move_from) #moving from helper to destination\n",
    "    return\n",
    "\n",
    "hanoi(2)"
   ]
  },
  {
   "cell_type": "code",
   "execution_count": 1,
   "metadata": {},
   "outputs": [
    {
     "data": {
      "text/plain": [
       "[6, 5, 4, 3, 2, 1]"
      ]
     },
     "execution_count": 1,
     "metadata": {},
     "output_type": "execute_result"
    }
   ],
   "source": [
    "# Reverse the list\n",
    "\n",
    "def reverse(l = [1,2,3,4,5,6]):\n",
    "    for i in range(len(l)):\n",
    "        l.insert(i, l.pop())\n",
    "    return l\n",
    "\n",
    "reverse()"
   ]
  },
  {
   "cell_type": "code",
   "execution_count": 4,
   "metadata": {},
   "outputs": [
    {
     "name": "stdout",
     "output_type": "stream",
     "text": [
      "1.0\n",
      "0.5\n",
      "not found\n"
     ]
    }
   ],
   "source": [
    "ar = [1,2,0,4,5]\n",
    "\n",
    "try:\n",
    "    for i in ar:\n",
    "        print(1/i)\n",
    "except:\n",
    "    print('not found')"
   ]
  },
  {
   "cell_type": "code",
   "execution_count": 7,
   "metadata": {},
   "outputs": [
    {
     "name": "stdout",
     "output_type": "stream",
     "text": [
      "1.0\n",
      "0.5\n",
      "0.25\n",
      "0.2\n"
     ]
    }
   ],
   "source": [
    "ar = [1,2,0,4,5]\n",
    "\n",
    "for i in ar:\n",
    "    try:\n",
    "        print(1/i)\n",
    "    except:\n",
    "        pass"
   ]
  },
  {
   "cell_type": "code",
   "execution_count": 2,
   "metadata": {},
   "outputs": [
    {
     "name": "stdout",
     "output_type": "stream",
     "text": [
      "321\n",
      "-951\n",
      "201\n"
     ]
    }
   ],
   "source": [
    "# Reverse integer\n",
    "\n",
    "def rev(num = 123):\n",
    "    str_num = str(abs(num))\n",
    "    if num > 0:\n",
    "        return int(str_num[::-1])\n",
    "    else:\n",
    "        return -int(str_num[::-1])\n",
    "    \n",
    "print(rev())\n",
    "print(rev(-159))\n",
    "print(rev(1020))"
   ]
  },
  {
   "cell_type": "code",
   "execution_count": 3,
   "metadata": {},
   "outputs": [
    {
     "data": {
      "text/plain": [
       "5.0"
      ]
     },
     "execution_count": 3,
     "metadata": {},
     "output_type": "execute_result"
    }
   ],
   "source": [
    "# For a given sentence, return the average word length. \n",
    "# Note: Remember to remove punctuation first.\n",
    "\n",
    "def counter(x):\n",
    "    if x in \"!?',;. \":\n",
    "        return 1\n",
    "    else:\n",
    "        return 0\n",
    "\n",
    "def avg_len(text = \"Hello, world!\"):\n",
    "    punctuation = 0\n",
    "    for l in text:\n",
    "        punctuation += counter(l)\n",
    "    return (len(text) - punctuation)/len(text.split(' '))\n",
    "\n",
    "avg_len()\n",
    "\n",
    "#def solution(sentence):\n",
    "#    for p in \"!?',;.\":\n",
    "#        sentence = sentence.replace(p, '')\n",
    "#    words = sentence.split()\n",
    "#    return round(sum(len(word) for word in words)/len(words),2)"
   ]
  },
  {
   "cell_type": "code",
   "execution_count": 4,
   "metadata": {},
   "outputs": [
    {
     "data": {
      "text/plain": [
       "2200"
      ]
     },
     "execution_count": 4,
     "metadata": {},
     "output_type": "execute_result"
    }
   ],
   "source": [
    "# Given two non-negative integers num1 and num2 represented as string, return the sum of num1 and num2.\n",
    "# You must not use any built-in BigInteger library or convert the inputs to integer directly.\n",
    "\n",
    "#Notes:\n",
    "#Both num1 and num2 contains only digits 0-9.\n",
    "#Both num1 and num2 does not contain any leading zero.\n",
    "\n",
    "num1 = '364'\n",
    "num2 = '1836'\n",
    "\n",
    "def add_strings(str1, str2, operation = '+'):\n",
    "    return eval(str1 + operation + str2)\n",
    "\n",
    "add_strings(num1, num2)"
   ]
  },
  {
   "cell_type": "code",
   "execution_count": 5,
   "metadata": {},
   "outputs": [
    {
     "data": {
      "text/plain": [
       "5"
      ]
     },
     "execution_count": 5,
     "metadata": {},
     "output_type": "execute_result"
    }
   ],
   "source": [
    "# Given a string, find the first non-repeating character in it and return its index. \n",
    "# If it doesn't exist, return -1. # Note: all the input strings are already lowercase.\n",
    "\n",
    "text = 'all the input strings are already lowercase'\n",
    "\n",
    "def first_unique(text = text):\n",
    "    for item in text:\n",
    "        if len(text.split(item)) == 2:\n",
    "            return text.index(item)\n",
    "    \n",
    "    return -1\n",
    "        \n",
    "\n",
    "first_unique()"
   ]
  },
  {
   "cell_type": "code",
   "execution_count": 6,
   "metadata": {},
   "outputs": [
    {
     "data": {
      "text/plain": [
       "'string \"tenet!\" can become palindrome \"tenet\" if remove element number 6.'"
      ]
     },
     "execution_count": 6,
     "metadata": {},
     "output_type": "execute_result"
    }
   ],
   "source": [
    "# Given a non-empty string s, you may delete at most one character. Judge whether you can make it a palindrome.\n",
    "# The string will only contain lowercase characters a-z.\n",
    "\n",
    "s = 'tenet!'\n",
    "\n",
    "def palindrome(s = s):\n",
    "    if s == s[::-1]:\n",
    "        return 'the string \"{}\" is palindrome'.format(s)\n",
    "    for i in range(1, len(s)+1):\n",
    "        tmp = s[:i-1] + s[i:]\n",
    "        if tmp == tmp[::-1]:\n",
    "            return 'string \"{}\" can become palindrome \"{}\" if remove element number {}.'.format(s,tmp,i)\n",
    "    return 'string is not a palindrome'\n",
    "\n",
    "palindrome(s)"
   ]
  },
  {
   "cell_type": "code",
   "execution_count": 7,
   "metadata": {},
   "outputs": [
    {
     "data": {
      "text/plain": [
       "'monotonic decreasing'"
      ]
     },
     "execution_count": 7,
     "metadata": {},
     "output_type": "execute_result"
    }
   ],
   "source": [
    "# Given an array of integers, determine whether the array is monotonic or not.\n",
    "A = [6, 5, 4, 4] \n",
    "B = [1,1,1,3,3,4,3,2,4,2]\n",
    "C = [1,1,2,3,7]\n",
    "\n",
    "def monotonic(ar = A):\n",
    "    s_ar = ar.copy()\n",
    "    r_ar = ar.copy()\n",
    "    s_ar.sort()\n",
    "    r_ar.sort(reverse = True)\n",
    "    if ar == s_ar:\n",
    "        return 'monotonic increasing'\n",
    "    elif ar == r_ar:\n",
    "        return 'monotonic decreasing'\n",
    "    else:\n",
    "        return 'none'\n",
    "        \n",
    "    \n",
    "monotonic(A)\n",
    "\n",
    "#def solution(nums): \n",
    "#    return (all(nums[i] <= nums[i + 1] for i in range(len(nums) - 1)) or \n",
    "#            all(nums[i] >= nums[i + 1] for i in range(len(nums) - 1))) "
   ]
  },
  {
   "cell_type": "code",
   "execution_count": 8,
   "metadata": {},
   "outputs": [
    {
     "data": {
      "text/plain": [
       "[1, 7, 8, 10, 12, 4, 0, 0, 0, 0]"
      ]
     },
     "execution_count": 8,
     "metadata": {},
     "output_type": "execute_result"
    }
   ],
   "source": [
    "#Given an array nums, write a function to move all zeroes to the end of it while maintaining the relative order of \n",
    "#the non-zero elements.\n",
    "\n",
    "array1 = [0,1,0,3,12]\n",
    "array2 = [1,7,0,0,8,0,10,12,0,4]\n",
    "\n",
    "def move(ar = array1):\n",
    "    return [num for num in ar if num > 0] + [num for num in ar if num == 0]\n",
    "\n",
    "move(array2)"
   ]
  },
  {
   "cell_type": "code",
   "execution_count": 9,
   "metadata": {},
   "outputs": [
    {
     "data": {
      "text/plain": [
       "[1, 1, 2, 3, 3, 3, 5, 5]"
      ]
     },
     "execution_count": 9,
     "metadata": {},
     "output_type": "execute_result"
    }
   ],
   "source": [
    "# Given an array containing None values fill in the None values with most recent \n",
    "# non None value in the array \n",
    "array1 = [1,None,2,3,None,None,5,None]\n",
    "\n",
    "def fill_none(ar = array1):\n",
    "    recent = ar[0]\n",
    "    for i in range(0, len(ar)):\n",
    "        if ar[i] is None:\n",
    "            ar[i] = recent\n",
    "        else:\n",
    "            recent = ar[i]\n",
    "    return ar\n",
    "\n",
    "fill_none()"
   ]
  },
  {
   "cell_type": "code",
   "execution_count": 10,
   "metadata": {},
   "outputs": [
    {
     "data": {
      "text/plain": [
       "(array(['We', 'are', 'in', 'meet', 'our', 'pleased', 'to', 'you'],\n",
       "       dtype='<U7'),\n",
       " array(['city', 'really'], dtype='<U7'))"
      ]
     },
     "execution_count": 10,
     "metadata": {},
     "output_type": "execute_result"
    }
   ],
   "source": [
    "#Given two sentences, return an array that has the words that appear in one sentence and not\n",
    "#the other and an array with the words in common. \n",
    "import numpy as np\n",
    "\n",
    "sentence1 = 'We are really pleased to meet you in our city'\n",
    "sentence2 = 'The city was hit by a really heavy storm'\n",
    "\n",
    "def solution(sentence1 = sentence1, sentence2 = sentence2):\n",
    "    return np.setdiff1d(sentence1.split(' '), sentence2.split(' ')), np.intersect1d(sentence1.split(' '), sentence2.split(' '))\n",
    "\n",
    "solution()"
   ]
  },
  {
   "cell_type": "code",
   "execution_count": 11,
   "metadata": {},
   "outputs": [
    {
     "name": "stdout",
     "output_type": "stream",
     "text": [
      "1\n",
      "2\n",
      "3\n",
      "5\n"
     ]
    }
   ],
   "source": [
    "# Given k numbers which are less than n, return the set of prime number among them\n",
    "# Note: The task is to write a program to print all Prime numbers in an Interval.\n",
    "# Definition: A prime number is a natural number greater than 1 that has no positive divisors other than 1 and itself. \n",
    "\n",
    "n = 35\n",
    "\n",
    "def prime(num = n):\n",
    "    for i in range(2,num):\n",
    "        if num % i == 0:\n",
    "            return False\n",
    "    return True\n",
    "\n",
    "def print_prime(n = n):\n",
    "    for i in range(1, n):\n",
    "        if prime(i):\n",
    "            print(i)\n",
    "\n",
    "print_prime(6)"
   ]
  },
  {
   "cell_type": "code",
   "execution_count": 12,
   "metadata": {},
   "outputs": [
    {
     "data": {
      "text/plain": [
       "True"
      ]
     },
     "execution_count": 12,
     "metadata": {},
     "output_type": "execute_result"
    }
   ],
   "source": [
    "# Check if two strings are anagrams\n",
    "\n",
    "s1 = 'strinrg'\n",
    "s2 = 'gitnsrr'\n",
    "\n",
    "def is_anagram(s1 = s1, s2 = s2):\n",
    "    return sorted(s1) == sorted(s2)\n",
    "    \n",
    "is_anagram()"
   ]
  },
  {
   "cell_type": "code",
   "execution_count": 13,
   "metadata": {},
   "outputs": [
    {
     "data": {
      "text/plain": [
       "'new'"
      ]
     },
     "execution_count": 13,
     "metadata": {},
     "output_type": "execute_result"
    }
   ],
   "source": [
    "# find the word added to a sentence\n",
    "import numpy as np\n",
    "\n",
    "s1 = 'find the word added to a sentence'\n",
    "s2 = 'find the new word added to a sentence'\n",
    "\n",
    "def new_word(origin = s1, new = s2):\n",
    "    return str(np.setdiff1d(new.split(), origin.split())[0])\n",
    "\n",
    "new_word()"
   ]
  },
  {
   "cell_type": "code",
   "execution_count": 14,
   "metadata": {},
   "outputs": [
    {
     "data": {
      "text/plain": [
       "[1, 2, 'Fizz', 4, 'Buzz', 'Fizz', 7, 8, 'Fizz', 'Buzz']"
      ]
     },
     "execution_count": 14,
     "metadata": {},
     "output_type": "execute_result"
    }
   ],
   "source": [
    "# Fizz Buzz\n",
    "# Given n, return a llist of values for every integers from 1 to n\n",
    "# if number is divisible by 3 return 'Fizz'. 5 - 'Buzz'. Both - 'FizzBuzz'\n",
    "\n",
    "def fizzbuzz(n = 10):\n",
    "    res = []\n",
    "    for i in range(1, n+1):\n",
    "        if (i % 3 == 0) and (i % 5 == 0):\n",
    "            res = res + ['FizzBuzz']\n",
    "        elif i % 5 == 0:\n",
    "            res = res + ['Buzz']\n",
    "        elif i % 3 == 0:\n",
    "            res = res + ['Fizz']\n",
    "        else:\n",
    "            res = res + [i]\n",
    "    return res\n",
    "\n",
    "fizzbuzz()"
   ]
  },
  {
   "cell_type": "code",
   "execution_count": 15,
   "metadata": {},
   "outputs": [
    {
     "data": {
      "text/plain": [
       "array([1])"
      ]
     },
     "execution_count": 15,
     "metadata": {},
     "output_type": "execute_result"
    }
   ],
   "source": [
    "# How do you find the missing number in a given integer array of 1 to 100?\n",
    "import numpy as np\n",
    "\n",
    "ar = range(2,101)\n",
    "\n",
    "def missed_values(ar = ar, n = 100):\n",
    "    return np.setdiff1d(range(1,n+1), ar)\n",
    "\n",
    "missed_values()"
   ]
  },
  {
   "cell_type": "code",
   "execution_count": 16,
   "metadata": {},
   "outputs": [
    {
     "data": {
      "text/plain": [
       "98"
      ]
     },
     "execution_count": 16,
     "metadata": {},
     "output_type": "execute_result"
    }
   ],
   "source": [
    "# How do you find the missing number in a given integer array of 1 to 100?\n",
    "# this solution for the first missed value\n",
    "ar = range(1,98)\n",
    "\n",
    "def missed_values(ar = ar, n = 100):\n",
    "    for i in range(1,n+1):\n",
    "        if i not in ar:\n",
    "            return i\n",
    "\n",
    "missed_values()"
   ]
  },
  {
   "cell_type": "code",
   "execution_count": 17,
   "metadata": {},
   "outputs": [
    {
     "data": {
      "text/plain": [
       "3"
      ]
     },
     "execution_count": 17,
     "metadata": {},
     "output_type": "execute_result"
    }
   ],
   "source": [
    "# How do you find the duplicate number on a given integer array?\n",
    "\n",
    "ar = [0,1,2,3,4,5,3]\n",
    "\n",
    "def duplicate(ar = ar, sorted = False):\n",
    "    if not sorted:\n",
    "        ar.sort()\n",
    "    duplicate_value = None\n",
    "    for i in ar:\n",
    "        if duplicate_value == i:\n",
    "            return duplicate_value\n",
    "        else:\n",
    "            duplicate_value = i\n",
    "\n",
    "duplicate()"
   ]
  },
  {
   "cell_type": "code",
   "execution_count": 18,
   "metadata": {},
   "outputs": [
    {
     "data": {
      "text/plain": [
       "(0, 9)"
      ]
     },
     "execution_count": 18,
     "metadata": {},
     "output_type": "execute_result"
    }
   ],
   "source": [
    "# How do you find the largest and smallest number in an unsorted integer array?\n",
    "import numpy as np\n",
    "ar = [0,1,5,2,5,8,3,5,8,9,3,2]\n",
    "\n",
    "def extremus(ar = ar, sorted = False):\n",
    "    if not sorted:\n",
    "        ar.sort()\n",
    "    return ar[0], ar[-1]\n",
    "\n",
    "def extremus(ar = ar):\n",
    "    return np.min(ar), np.max(ar)\n",
    "\n",
    "def extremus(ar = ar):\n",
    "    min_val = ar[0]\n",
    "    max_val = ar[0]\n",
    "    for i in ar[1:]:\n",
    "        if i > max_val:\n",
    "            max_val = i\n",
    "        if i < min_val:\n",
    "            min_val = i\n",
    "    return min_val, max_val\n",
    "\n",
    "extremus()"
   ]
  },
  {
   "cell_type": "code",
   "execution_count": 19,
   "metadata": {},
   "outputs": [
    {
     "data": {
      "text/plain": [
       "[(1, 9), (5, 5), (5, 5), (5, 5), (5, 5), (9, 1)]"
      ]
     },
     "execution_count": 19,
     "metadata": {},
     "output_type": "execute_result"
    }
   ],
   "source": [
    "# How do you find all pairs of an integer array whose sum is equal to a given number?\n",
    "\n",
    "ar = [0,1,5,2,5,3,9,3,2]\n",
    "\n",
    "def additives(ar = ar, total = 10):\n",
    "    result = []\n",
    "    for item1 in ar:\n",
    "        for item2 in ar:\n",
    "            if item1 + item2 == 10:\n",
    "                result = result + [(item1, item2)]\n",
    "    return result\n",
    "\n",
    "additives()"
   ]
  },
  {
   "cell_type": "code",
   "execution_count": 20,
   "metadata": {},
   "outputs": [
    {
     "data": {
      "text/plain": [
       "{1, 2, 3, 5, 9}"
      ]
     },
     "execution_count": 20,
     "metadata": {},
     "output_type": "execute_result"
    }
   ],
   "source": [
    "# How do you find duplicate numbers in an array if it contains multiple duplicates?\n",
    "\n",
    "ar = [0,1,5,2,5,3,9,3,2,2,2,5,6,9,1]\n",
    "\n",
    "def duplicates(ar = ar, sorted = False):\n",
    "    result = []\n",
    "    if not sorted:\n",
    "        ar.sort()\n",
    "    duplicate_value = None\n",
    "    for i in ar:\n",
    "        if duplicate_value == i:\n",
    "            result = result + [duplicate_value]\n",
    "        else:\n",
    "            duplicate_value = i\n",
    "    return set(result)\n",
    "\n",
    "duplicates()"
   ]
  },
  {
   "cell_type": "code",
   "execution_count": 21,
   "metadata": {},
   "outputs": [
    {
     "data": {
      "text/plain": [
       "[0, 3, 2, 5, 6, 9, 1]"
      ]
     },
     "execution_count": 21,
     "metadata": {},
     "output_type": "execute_result"
    }
   ],
   "source": [
    "# How do you remove duplicates from an array in place?\n",
    "# How are duplicates removed from an array without using any library?\n",
    "\n",
    "ar = [0,1,5,2,5,3,9,3,2,2,2,5,6,9,1]\n",
    "\n",
    "def remove_duplicates(ar = ar):\n",
    "    res = []\n",
    "    for item in ar:\n",
    "        if item not in res:\n",
    "            res += [item]\n",
    "    return res\n",
    "\n",
    "def remove_duplicates(ar = ar):\n",
    "    i = 0\n",
    "    while i < len(ar)-1:\n",
    "        if ar[i] in ar[i+1:]:\n",
    "            ar.remove(ar[i])\n",
    "        else:\n",
    "            i = i + 1\n",
    "    return ar\n",
    "\n",
    "remove_duplicates()"
   ]
  },
  {
   "cell_type": "code",
   "execution_count": 22,
   "metadata": {},
   "outputs": [
    {
     "data": {
      "text/plain": [
       "'p tarociusden'"
      ]
     },
     "execution_count": 22,
     "metadata": {},
     "output_type": "execute_result"
    }
   ],
   "source": [
    "# How do you print duplicate characters from a string?\n",
    "\n",
    "st = 'How do you print duplicate characters from a string?'\n",
    "\n",
    "def duplicate_characters(st = st):\n",
    "    i = 0\n",
    "    res = []\n",
    "    for item in st:\n",
    "        i += 1\n",
    "        if item in st[i:]:\n",
    "            res += [item]\n",
    "    return ''.join(list(set(res)))\n",
    "\n",
    "duplicate_characters()"
   ]
  },
  {
   "cell_type": "code",
   "execution_count": 23,
   "metadata": {},
   "outputs": [
    {
     "data": {
      "text/plain": [
       "'w'"
      ]
     },
     "execution_count": 23,
     "metadata": {},
     "output_type": "execute_result"
    }
   ],
   "source": [
    "# How do you print the first non-repeated character from a string?\n",
    "\n",
    "st = 'How do you print the first non-repeated character from a string?'\n",
    "\n",
    "def unique_character(st = st.lower()):\n",
    "    i = 0\n",
    "    res = []\n",
    "    for item in st:\n",
    "        i += 1\n",
    "        if item not in st[i:]:\n",
    "            return item\n",
    "\n",
    "unique_character()"
   ]
  },
  {
   "cell_type": "code",
   "execution_count": 24,
   "metadata": {},
   "outputs": [
    {
     "data": {
      "text/plain": [
       "'noisrucer'"
      ]
     },
     "execution_count": 24,
     "metadata": {},
     "output_type": "execute_result"
    }
   ],
   "source": [
    "# How can a given string be reversed using recursion?\n",
    "\n",
    "st = 'recursion'\n",
    "\n",
    "# on iteration last but one\n",
    "\n",
    "def reverse(input = st, result = ''):\n",
    "    if len(input) == 1:\n",
    "        result = input + result\n",
    "    else:\n",
    "        result = reverse(input[1:], input[0] + result) \n",
    "    \n",
    "    return result\n",
    "        \n",
    "\n",
    "reverse()"
   ]
  },
  {
   "cell_type": "code",
   "execution_count": 25,
   "metadata": {},
   "outputs": [
    {
     "data": {
      "text/plain": [
       "False"
      ]
     },
     "execution_count": 25,
     "metadata": {},
     "output_type": "execute_result"
    }
   ],
   "source": [
    "# How do you check if a string contains only digits?\n",
    "\n",
    "st = '1234 567'\n",
    "\n",
    "def check_num(input = st):\n",
    "    for i in input:\n",
    "        if i not in '0123456789':\n",
    "            return False\n",
    "    return True\n",
    "\n",
    "check_num()"
   ]
  },
  {
   "cell_type": "code",
   "execution_count": 26,
   "metadata": {},
   "outputs": [
    {
     "data": {
      "text/plain": [
       "'te'"
      ]
     },
     "execution_count": 26,
     "metadata": {},
     "output_type": "execute_result"
    }
   ],
   "source": [
    "# How are duplicate characters found in a string?\n",
    "\n",
    "st = 'tenet'\n",
    "\n",
    "def duplicate_characters(st = st):\n",
    "    i = 0\n",
    "    res = ''\n",
    "    for character in st:\n",
    "        i += 1\n",
    "        if character in st[i:]:\n",
    "            res += character\n",
    "    return res\n",
    "\n",
    "duplicate_characters()"
   ]
  },
  {
   "cell_type": "code",
   "execution_count": 27,
   "metadata": {},
   "outputs": [
    {
     "data": {
      "text/plain": [
       "'Vowels - 21, consonants - 34.'"
      ]
     },
     "execution_count": 27,
     "metadata": {},
     "output_type": "execute_result"
    }
   ],
   "source": [
    "# How do you count a number of vowels and consonants in a given string?\n",
    "\n",
    "string = 'How do you count a number of vowels and consonants in a given string?'\n",
    "\n",
    "vowel = 'aeiou'\n",
    "special_characters = ' .,?-'\n",
    "\n",
    "def count(s = string):\n",
    "    s = s.lower()\n",
    "    v = 0\n",
    "    c = 0\n",
    "    for character in s:\n",
    "        if character in vowel:\n",
    "            v += 1\n",
    "        elif character not in special_characters:\n",
    "            c += 1\n",
    "    return 'Vowels - {}, consonants - {}.'.format(v,c)\n",
    "\n",
    "count()"
   ]
  },
  {
   "cell_type": "code",
   "execution_count": 28,
   "metadata": {},
   "outputs": [
    {
     "data": {
      "text/plain": [
       "['abc', 'acb', 'bac', 'bca', 'cab', 'cba']"
      ]
     },
     "execution_count": 28,
     "metadata": {},
     "output_type": "execute_result"
    }
   ],
   "source": [
    "# How do you find all permutations of a string?\n",
    "from itertools import permutations\n",
    "string = 'abc'\n",
    "\n",
    "def perm(s = string):\n",
    "    res = [''.join(item) for item in permutations(s)]\n",
    "    return res\n",
    "\n",
    "perm()"
   ]
  },
  {
   "cell_type": "code",
   "execution_count": 29,
   "metadata": {},
   "outputs": [
    {
     "data": {
      "text/plain": [
       "'woH od uoy esrever sdrow ni a nevig ecnetnes tuohtiw gnisu yna yrarbil ?dohtem'"
      ]
     },
     "execution_count": 29,
     "metadata": {},
     "output_type": "execute_result"
    }
   ],
   "source": [
    "# How do you reverse words in a given sentence without using any library method?\n",
    "\n",
    "sentence = 'How do you reverse words in a given sentence without using any library method?'\n",
    "\n",
    "def rev_word(word):\n",
    "    return word[::-1]\n",
    "\n",
    "def rev_sentence(sentence = sentence):\n",
    "    result = ''\n",
    "    st = sentence.split(' ')\n",
    "    for item in st:\n",
    "        result = result + rev_word(item) + ' '\n",
    "    return result[:-1]\n",
    "\n",
    "rev_sentence()  "
   ]
  },
  {
   "cell_type": "code",
   "execution_count": 30,
   "metadata": {},
   "outputs": [
    {
     "data": {
      "text/plain": [
       "'0123456789'"
      ]
     },
     "execution_count": 30,
     "metadata": {},
     "output_type": "execute_result"
    }
   ],
   "source": [
    "# How is a bubble sort algorithm implemented?\n",
    "\n",
    "ar = list('9876543210')\n",
    "\n",
    "def bubble_sort(ar = ar):\n",
    "    l = len(ar)\n",
    "    for i in range(0,l):\n",
    "        for j in range(i,l):\n",
    "            if ar[i] > ar[j]:\n",
    "                tmp = ar[i]\n",
    "                ar[i] = ar[j]\n",
    "                ar[j] = tmp\n",
    "        \n",
    "    return ''.join(ar)\n",
    "\n",
    "bubble_sort()"
   ]
  },
  {
   "cell_type": "code",
   "execution_count": 31,
   "metadata": {},
   "outputs": [
    {
     "data": {
      "text/plain": [
       "(25, 10)"
      ]
     },
     "execution_count": 31,
     "metadata": {},
     "output_type": "execute_result"
    }
   ],
   "source": [
    "# How do you swap two numbers without using the third variable?\n",
    "\n",
    "a = 10\n",
    "b = 25\n",
    "\n",
    "def swap(a=a, b=b):\n",
    "    a = a + b\n",
    "    b = a - b\n",
    "    a = a - b\n",
    "    return a, b\n",
    "\n",
    "swap()"
   ]
  },
  {
   "cell_type": "code",
   "execution_count": 6,
   "metadata": {},
   "outputs": [
    {
     "data": {
      "text/plain": [
       "2"
      ]
     },
     "execution_count": 6,
     "metadata": {},
     "output_type": "execute_result"
    }
   ],
   "source": [
    "# Return n-th biggest element from distionary\n",
    "\n",
    "def solution(d, n):\n",
    "    res = sorted((v,k) for (k, v) in d.items())\n",
    "    return res[-n][1]\n",
    "\n",
    "solution({1:1,2:2,3:1,4:1}, 1)"
   ]
  },
  {
   "cell_type": "code",
   "execution_count": null,
   "metadata": {},
   "outputs": [],
   "source": []
  }
 ],
 "metadata": {
  "kernelspec": {
   "display_name": "Python 3",
   "language": "python",
   "name": "python3"
  },
  "language_info": {
   "codemirror_mode": {
    "name": "ipython",
    "version": 3
   },
   "file_extension": ".py",
   "mimetype": "text/x-python",
   "name": "python",
   "nbconvert_exporter": "python",
   "pygments_lexer": "ipython3",
   "version": "3.7.6"
  }
 },
 "nbformat": 4,
 "nbformat_minor": 4
}
