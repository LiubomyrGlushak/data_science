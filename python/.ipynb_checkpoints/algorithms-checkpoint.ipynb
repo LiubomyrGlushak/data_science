{
 "cells": [
  {
   "cell_type": "code",
   "execution_count": 25,
   "metadata": {},
   "outputs": [
    {
     "name": "stdout",
     "output_type": "stream",
     "text": [
      "A -> B\n",
      "A -> C\n",
      "B -> C\n"
     ]
    }
   ],
   "source": [
    "# Tower of Hanoi\n",
    "\n",
    "def hanoi(h = 1, move_from = \"A\", move_to = \"C\", helper = \"B\"):\n",
    "    if h == 1:\n",
    "        print(move_from + ' -> ' + move_to)\n",
    "    else:\n",
    "        hanoi(h-1, move_from, helper, move_to) #recursevly moving n-1 to helper\n",
    "        print(move_from + ' -> ' + move_to) #moving the last one to destination\n",
    "        hanoi(h-1, helper, move_to, move_from) #moving from helper to destination\n",
    "    return\n",
    "\n",
    "hanoi(2)"
   ]
  },
  {
   "cell_type": "code",
   "execution_count": 40,
   "metadata": {},
   "outputs": [
    {
     "name": "stdout",
     "output_type": "stream",
     "text": [
      "321\n",
      "-951\n",
      "201\n"
     ]
    }
   ],
   "source": [
    "# Reverse integer\n",
    "\n",
    "def rev(num = 123):\n",
    "    str_num = str(abs(num))\n",
    "    if num > 0:\n",
    "        return int(str_num[::-1])\n",
    "    else:\n",
    "        return -int(str_num[::-1])\n",
    "    \n",
    "print(rev())\n",
    "print(rev(-159))\n",
    "print(rev(1020))"
   ]
  },
  {
   "cell_type": "code",
   "execution_count": 83,
   "metadata": {},
   "outputs": [
    {
     "data": {
      "text/plain": [
       "5.0"
      ]
     },
     "execution_count": 83,
     "metadata": {},
     "output_type": "execute_result"
    }
   ],
   "source": [
    "# For a given sentence, return the average word length. \n",
    "# Note: Remember to remove punctuation first.\n",
    "\n",
    "def counter(x):\n",
    "    if x in \"!?',;. \":\n",
    "        return 1\n",
    "    else:\n",
    "        return 0\n",
    "\n",
    "def avg_len(text = \"Hello, world!\"):\n",
    "    punctuation = 0\n",
    "    for l in text:\n",
    "        punctuation += counter(l)\n",
    "    return (len(text) - punctuation)/len(text.split(' '))\n",
    "\n",
    "avg_len()\n",
    "\n",
    "#def solution(sentence):\n",
    "#    for p in \"!?',;.\":\n",
    "#        sentence = sentence.replace(p, '')\n",
    "#    words = sentence.split()\n",
    "#    return round(sum(len(word) for word in words)/len(words),2)"
   ]
  },
  {
   "cell_type": "code",
   "execution_count": 89,
   "metadata": {},
   "outputs": [
    {
     "data": {
      "text/plain": [
       "2200"
      ]
     },
     "execution_count": 89,
     "metadata": {},
     "output_type": "execute_result"
    }
   ],
   "source": [
    "# Given two non-negative integers num1 and num2 represented as string, return the sum of num1 and num2.\n",
    "# You must not use any built-in BigInteger library or convert the inputs to integer directly.\n",
    "\n",
    "#Notes:\n",
    "#Both num1 and num2 contains only digits 0-9.\n",
    "#Both num1 and num2 does not contain any leading zero.\n",
    "\n",
    "num1 = '364'\n",
    "num2 = '1836'\n",
    "\n",
    "def add_strings(str1, str2, operation = '+'):\n",
    "    return eval(str1 + operation + str2)\n",
    "\n",
    "add_strings(num1, num2)"
   ]
  },
  {
   "cell_type": "code",
   "execution_count": 108,
   "metadata": {},
   "outputs": [
    {
     "data": {
      "text/plain": [
       "5"
      ]
     },
     "execution_count": 108,
     "metadata": {},
     "output_type": "execute_result"
    }
   ],
   "source": [
    "# Given a string, find the first non-repeating character in it and return its index. \n",
    "# If it doesn't exist, return -1. # Note: all the input strings are already lowercase.\n",
    "\n",
    "text = 'all the input strings are already lowercase'\n",
    "\n",
    "def first_unique(text = text):\n",
    "    for item in text:\n",
    "        if len(text.split(item)) == 2:\n",
    "            return text.index(item)\n",
    "    \n",
    "    return -1\n",
    "        \n",
    "\n",
    "first_unique()"
   ]
  },
  {
   "cell_type": "code",
   "execution_count": 148,
   "metadata": {},
   "outputs": [
    {
     "data": {
      "text/plain": [
       "'string \"tenet!\" can become palindrome \"tenet\" if remove element number 6.'"
      ]
     },
     "execution_count": 148,
     "metadata": {},
     "output_type": "execute_result"
    }
   ],
   "source": [
    "# Given a non-empty string s, you may delete at most one character. Judge whether you can make it a palindrome.\n",
    "# The string will only contain lowercase characters a-z.\n",
    "\n",
    "s = 'tenet!'\n",
    "\n",
    "def palindrome(s = s):\n",
    "    if s == s[::-1]:\n",
    "        return 'the string \"{}\" is palindrome'.format(s)\n",
    "    for i in range(1, len(s)+1):\n",
    "        tmp = s[:i-1] + s[i:]\n",
    "        if tmp == tmp[::-1]:\n",
    "            return 'string \"{}\" can become palindrome \"{}\" if remove element number {}.'.format(s,tmp,i)\n",
    "    return 'string is not a palindrome'\n",
    "\n",
    "palindrome(s)"
   ]
  },
  {
   "cell_type": "code",
   "execution_count": 172,
   "metadata": {},
   "outputs": [
    {
     "data": {
      "text/plain": [
       "'monotonic decreasing'"
      ]
     },
     "execution_count": 172,
     "metadata": {},
     "output_type": "execute_result"
    }
   ],
   "source": [
    "# Given an array of integers, determine whether the array is monotonic or not.\n",
    "A = [6, 5, 4, 4] \n",
    "B = [1,1,1,3,3,4,3,2,4,2]\n",
    "C = [1,1,2,3,7]\n",
    "\n",
    "def monotonic(ar = A):\n",
    "    s_ar = ar.copy()\n",
    "    r_ar = ar.copy()\n",
    "    s_ar.sort()\n",
    "    r_ar.sort(reverse = True)\n",
    "    if ar == s_ar:\n",
    "        return 'monotonic increasing'\n",
    "    elif ar == r_ar:\n",
    "        return 'monotonic decreasing'\n",
    "    else:\n",
    "        return 'none'\n",
    "        \n",
    "    \n",
    "monotonic(A)\n",
    "\n",
    "#def solution(nums): \n",
    "#    return (all(nums[i] <= nums[i + 1] for i in range(len(nums) - 1)) or \n",
    "#            all(nums[i] >= nums[i + 1] for i in range(len(nums) - 1))) "
   ]
  },
  {
   "cell_type": "code",
   "execution_count": 191,
   "metadata": {},
   "outputs": [
    {
     "data": {
      "text/plain": [
       "[1, 7, 8, 10, 12, 4, 0, 0, 0, 0]"
      ]
     },
     "execution_count": 191,
     "metadata": {},
     "output_type": "execute_result"
    }
   ],
   "source": [
    "#Given an array nums, write a function to move all zeroes to the end of it while maintaining the relative order of \n",
    "#the non-zero elements.\n",
    "\n",
    "array1 = [0,1,0,3,12]\n",
    "array2 = [1,7,0,0,8,0,10,12,0,4]\n",
    "\n",
    "def move(ar = array1):\n",
    "    return [num for num in ar if num > 0] + [num for num in ar if num == 0]\n",
    "\n",
    "move(array2)"
   ]
  },
  {
   "cell_type": "code",
   "execution_count": 198,
   "metadata": {},
   "outputs": [
    {
     "data": {
      "text/plain": [
       "[1, 1, 2, 3, 3, 3, 5, 5]"
      ]
     },
     "execution_count": 198,
     "metadata": {},
     "output_type": "execute_result"
    }
   ],
   "source": [
    "# Given an array containing None values fill in the None values with most recent \n",
    "# non None value in the array \n",
    "array1 = [1,None,2,3,None,None,5,None]\n",
    "\n",
    "def fill_none(ar = array1):\n",
    "    recent = ar[0]\n",
    "    for i in range(0, len(ar)):\n",
    "        if ar[i] is None:\n",
    "            ar[i] = recent\n",
    "        else:\n",
    "            recent = ar[i]\n",
    "    return ar\n",
    "\n",
    "fill_none()"
   ]
  },
  {
   "cell_type": "code",
   "execution_count": 202,
   "metadata": {},
   "outputs": [
    {
     "data": {
      "text/plain": [
       "(array(['We', 'are', 'in', 'meet', 'our', 'pleased', 'to', 'you'],\n",
       "       dtype='<U7'),\n",
       " array(['city', 'really'], dtype='<U7'))"
      ]
     },
     "execution_count": 202,
     "metadata": {},
     "output_type": "execute_result"
    }
   ],
   "source": [
    "#Given two sentences, return an array that has the words that appear in one sentence and not\n",
    "#the other and an array with the words in common. \n",
    "import numpy as np\n",
    "\n",
    "sentence1 = 'We are really pleased to meet you in our city'\n",
    "sentence2 = 'The city was hit by a really heavy storm'\n",
    "\n",
    "def solution(sentence1 = sentence1, sentence2 = sentence2):\n",
    "    return np.setdiff1d(sentence1.split(' '), sentence2.split(' ')), np.intersect1d(sentence1.split(' '), sentence2.split(' '))\n",
    "\n",
    "solution()"
   ]
  },
  {
   "cell_type": "code",
   "execution_count": 217,
   "metadata": {},
   "outputs": [
    {
     "name": "stdout",
     "output_type": "stream",
     "text": [
      "1\n",
      "2\n",
      "3\n",
      "5\n"
     ]
    }
   ],
   "source": [
    "# Given k numbers which are less than n, return the set of prime number among them\n",
    "# Note: The task is to write a program to print all Prime numbers in an Interval.\n",
    "# Definition: A prime number is a natural number greater than 1 that has no positive divisors other than 1 and itself. \n",
    "\n",
    "n = 35\n",
    "\n",
    "def prime(num = n):\n",
    "    for i in range(2,num):\n",
    "        if num % i == 0:\n",
    "            return False\n",
    "    return True\n",
    "\n",
    "def print_prime(n = n):\n",
    "    for i in range(1, n):\n",
    "        if prime(i):\n",
    "            print(i)\n",
    "\n",
    "print_prime(6)"
   ]
  }
 ],
 "metadata": {
  "kernelspec": {
   "display_name": "Python 3",
   "language": "python",
   "name": "python3"
  },
  "language_info": {
   "codemirror_mode": {
    "name": "ipython",
    "version": 3
   },
   "file_extension": ".py",
   "mimetype": "text/x-python",
   "name": "python",
   "nbconvert_exporter": "python",
   "pygments_lexer": "ipython3",
   "version": "3.7.6"
  }
 },
 "nbformat": 4,
 "nbformat_minor": 4
}
